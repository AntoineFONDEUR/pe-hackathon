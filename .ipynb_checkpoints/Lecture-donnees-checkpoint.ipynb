{
 "cells": [
  {
   "cell_type": "code",
   "execution_count": 214,
   "id": "d9ddbd40-aa55-4901-9a3e-55ab577164ca",
   "metadata": {},
   "outputs": [],
   "source": [
    "import numpy as np\n",
    "import pandas as pd\n",
    "import matplotlib.pyplot as plt\n",
    "from datetime import date"
   ]
  },
  {
   "cell_type": "code",
   "execution_count": 222,
   "id": "78bdfc75-374b-4037-ad5b-b2a8049aa6b6",
   "metadata": {},
   "outputs": [],
   "source": [
    "url=r\"https://public.opendatasoft.com/api/explore/v2.1/catalog/datasets/significant-earthquake-database/exports/csv?lang=fr&timezone=Europe%2FBerlin&use_labels=true&delimiter=%3B\"\n",
    "df=pd.read_csv(url,sep=\";\")\n",
    "df.set_index(\"ID Earthquake\",inplace=True)"
   ]
  },
  {
   "cell_type": "code",
   "execution_count": 223,
   "id": "000e3ced-068b-4aea-8c48-62b89fa2fad7",
   "metadata": {},
   "outputs": [],
   "source": [
    "df=df[[\"Flag Tsunami\",\"Year\",\"Focal Depth\",\"Intensity\",\"Country\",\"EQ Primary\",\n",
    "       'Total Effects : Houses Destroyed',\n",
    "       'Total Effects : Damages in million Dollars',\n",
    "       \"Total Effects : Deaths\",\n",
    "       'Coordinates']]"
   ]
  },
  {
   "cell_type": "code",
   "execution_count": 225,
   "id": "846990e4-c1b0-4e71-b852-6bb159373b0b",
   "metadata": {},
   "outputs": [],
   "source": [
    "df.to_csv(\"donnee_propres\")"
   ]
  },
  {
   "cell_type": "code",
   "execution_count": null,
   "id": "983e86de-f744-49ad-a23d-ef40c45d5701",
   "metadata": {},
   "outputs": [],
   "source": []
  }
 ],
 "metadata": {
  "kernelspec": {
   "display_name": "Python 3 (ipykernel)",
   "language": "python",
   "name": "python3"
  },
  "language_info": {
   "codemirror_mode": {
    "name": "ipython",
    "version": 3
   },
   "file_extension": ".py",
   "mimetype": "text/x-python",
   "name": "python",
   "nbconvert_exporter": "python",
   "pygments_lexer": "ipython3",
   "version": "3.11.4"
  }
 },
 "nbformat": 4,
 "nbformat_minor": 5
}
