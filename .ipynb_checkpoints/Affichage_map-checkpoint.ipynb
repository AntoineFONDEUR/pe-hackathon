{
 "cells": [
  {
   "cell_type": "code",
   "execution_count": 1,
   "id": "eb024cc1-ae52-440a-ad14-40cf974eb730",
   "metadata": {},
   "outputs": [],
   "source": [
    "import pandas as pd\n",
    "import folium"
   ]
  },
  {
   "cell_type": "code",
   "execution_count": 9,
   "id": "80f4516f-3f53-466c-9a33-015ff4e6fbaa",
   "metadata": {},
   "outputs": [],
   "source": [
    "df=pd.read_csv(\"donnee_propres\")\n",
    "COORDS1=list(df[\"Coordinates\"].dropna().str.split(\", \").values)\n",
    "#COORDS=[[float(coord[0]),float(coord[1])] for coord in COORDS1]"
   ]
  },
  {
   "cell_type": "code",
   "execution_count": 12,
   "id": "61c843d7-ef7f-4d5e-b153-72f053d07287",
   "metadata": {},
   "outputs": [],
   "source": [
    "map = folium.Map(location=[38.9, -77.05], zoom_start=12)\n",
    "\n",
    "for coord in COORDS1:\n",
    "    folium.Marker(coord).add_to(map)"
   ]
  },
  {
   "cell_type": "code",
   "execution_count": null,
   "id": "83ed86af-3be6-4b97-a056-6c60ad452074",
   "metadata": {},
   "outputs": [],
   "source": []
  }
 ],
 "metadata": {
  "kernelspec": {
   "display_name": "Python 3 (ipykernel)",
   "language": "python",
   "name": "python3"
  },
  "language_info": {
   "codemirror_mode": {
    "name": "ipython",
    "version": 3
   },
   "file_extension": ".py",
   "mimetype": "text/x-python",
   "name": "python",
   "nbconvert_exporter": "python",
   "pygments_lexer": "ipython3",
   "version": "3.11.4"
  }
 },
 "nbformat": 4,
 "nbformat_minor": 5
}
