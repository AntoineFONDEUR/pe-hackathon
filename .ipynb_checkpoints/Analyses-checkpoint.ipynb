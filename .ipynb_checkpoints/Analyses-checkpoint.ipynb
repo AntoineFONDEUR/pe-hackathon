{
 "cells": [
  {
   "cell_type": "code",
   "execution_count": 1,
   "id": "36dcb5ae-87ae-49bb-8dc9-a3c079f6a204",
   "metadata": {},
   "outputs": [],
   "source": [
    "import pandas as pd"
   ]
  },
  {
   "cell_type": "code",
   "execution_count": null,
   "id": "828858cb-1ea7-40d0-86b2-942dc2e0f7ee",
   "metadata": {},
   "outputs": [],
   "source": [
    "df=pd.read_csv(\"densité par pays.csv\", encoding=\"windows-1254\")"
   ]
  },
  {
   "cell_type": "code",
   "execution_count": null,
   "id": "4ddb9e9c-25a5-4a07-95bd-b67aae60f0ae",
   "metadata": {},
   "outputs": [],
   "source": []
  }
 ],
 "metadata": {
  "kernelspec": {
   "display_name": "Python 3 (ipykernel)",
   "language": "python",
   "name": "python3"
  },
  "language_info": {
   "codemirror_mode": {
    "name": "ipython",
    "version": 3
   },
   "file_extension": ".py",
   "mimetype": "text/x-python",
   "name": "python",
   "nbconvert_exporter": "python",
   "pygments_lexer": "ipython3",
   "version": "3.11.4"
  }
 },
 "nbformat": 4,
 "nbformat_minor": 5
}
