{
 "cells": [
  {
   "cell_type": "code",
   "execution_count": 2,
   "id": "19c4316d-b6d9-4e5c-b2e7-902aeafef6d5",
   "metadata": {},
   "outputs": [],
   "source": [
    "import numpy as np\n",
    "import pandas as pd\n",
    "import folium\n",
    "from folium.plugins import MarkerCluster"
   ]
  },
  {
   "cell_type": "code",
   "execution_count": 3,
   "id": "8d1b6c10-811d-4a47-88a6-9b2ce6840767",
   "metadata": {},
   "outputs": [],
   "source": [
    "df = pd.read_csv(\"significant-earthquake-database.csv\", sep = \";\")"
   ]
  },
  {
   "cell_type": "code",
   "execution_count": 4,
   "id": "b1b41e95-6e3c-4914-ac0f-571f7a6eacca",
   "metadata": {},
   "outputs": [],
   "source": [
    "map = folium.Map()"
   ]
  },
  {
   "cell_type": "code",
   "execution_count": null,
   "id": "c3dcaeb9-dffc-462f-bead-33f93d8e6d45",
   "metadata": {},
   "outputs": [],
   "source": [
    "liste_pays = df['Country'].unique()\n",
    "for pays in liste_pays:\n",
    "    cluster = MarkerCluster().add_to(map)\n",
    "    for i in range(len(df[df['Country']==pays])):\n",
    "        element = df[df['Country']==pays][\"Coordinates\"].iloc[i]\n",
    "        if type(element) == list:\n",
    "            annee = df[df['Country']==pays][\"Year\"].iloc[i]\n",
    "            intensite = df[df['Country']==pays][\"EQ Primary\"].iloc[i]\n",
    "            coordonnees = element.split(',')\n",
    "            coordonnees[0], coordonnees[1] = float(coordonnees[0]), float(coordonnees[1])\n",
    "            folium.Marker(coordonnees, popup = f\"année : {annee}, intensité : {intensite}\").add_to(cluster)\n",
    "map"
   ]
  },
  {
   "cell_type": "code",
   "execution_count": null,
   "id": "b79f2a19-510c-4260-882a-99002450608d",
   "metadata": {},
   "outputs": [],
   "source": []
  }
 ],
 "metadata": {
  "kernelspec": {
   "display_name": "Python 3 (ipykernel)",
   "language": "python",
   "name": "python3"
  },
  "language_info": {
   "codemirror_mode": {
    "name": "ipython",
    "version": 3
   },
   "file_extension": ".py",
   "mimetype": "text/x-python",
   "name": "python",
   "nbconvert_exporter": "python",
   "pygments_lexer": "ipython3",
   "version": "3.11.4"
  }
 },
 "nbformat": 4,
 "nbformat_minor": 5
}
